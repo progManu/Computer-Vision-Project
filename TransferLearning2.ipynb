{
  "cells": [
    {
      "cell_type": "markdown",
      "metadata": {},
      "source": [
        "# Point 3.2"
      ]
    },
    {
      "cell_type": "code",
      "execution_count": 1,
      "metadata": {
        "colab": {
          "base_uri": "https://localhost:8080/"
        },
        "id": "hxhylBqejaRK",
        "outputId": "0f012b63-e5a5-47e9-f415-00fb0e22458a"
      },
      "outputs": [
        {
          "name": "stdout",
          "output_type": "stream",
          "text": [
            "cpu\n"
          ]
        }
      ],
      "source": [
        "import torch\n",
        "import torchvision\n",
        "from tqdm import trange\n",
        "import cv2\n",
        "import copy\n",
        "from torchvision import transforms\n",
        "from torch.utils.data import random_split, Subset\n",
        "from sklearn.metrics import confusion_matrix, ConfusionMatrixDisplay\n",
        "from PIL import Image\n",
        "import matplotlib.pyplot as plt\n",
        "import numpy as np\n",
        "from sklearn.multiclass import OneVsRestClassifier\n",
        "from sklearn import metrics\n",
        "from sklearn.svm import SVC\n",
        "torch.manual_seed(10)\n",
        "\n",
        "device = torch.device(\"cuda\" if torch.cuda.is_available() else \"cpu\")\n",
        "device = torch.device(\"cpu\")\n",
        "\n",
        "print(device)"
      ]
    },
    {
      "cell_type": "code",
      "execution_count": 2,
      "metadata": {},
      "outputs": [
        {
          "name": "stderr",
          "output_type": "stream",
          "text": [
            "rm: cannot remove 'best_model.pt': No such file or directory\n"
          ]
        }
      ],
      "source": [
        "!rm best_model.pt"
      ]
    },
    {
      "cell_type": "code",
      "execution_count": 3,
      "metadata": {
        "id": "7fSI0METB9lu"
      },
      "outputs": [],
      "source": [
        "mean = [0.5224, 0.5224, 0.5224]\n",
        "std = [0.2456, 0.2456, 0.2456]\n",
        "\n",
        "train_transform = transforms.Compose([\n",
        "    # you can add other transformations in this list\n",
        "    transforms.ToTensor(),\n",
        "    transforms.RandomHorizontalFlip(p=0.5),\n",
        "    transforms.Resize(256),\n",
        "    transforms.CenterCrop(224),\n",
        "    # transforms.PILToTensor(),\n",
        "    transforms.Normalize(mean = mean, std = std),\n",
        "    transforms.Lambda(lambda x: x.float())\n",
        "    \n",
        "])\n",
        "\n",
        "test_transform = transforms.Compose([\n",
        "    # you can add other transformations in this list\n",
        "    # transforms.Resize((64, 64)),\n",
        "    transforms.ToTensor(),\n",
        "    transforms.Resize(256),\n",
        "    transforms.CenterCrop(224),\n",
        "    # transforms.PILToTensor(),\n",
        "    transforms.Normalize(mean = mean, std = std),\n",
        "    transforms.Lambda(lambda x: x.float())\n",
        "])"
      ]
    },
    {
      "cell_type": "markdown",
      "metadata": {},
      "source": [
        "## Dataset Definition\n",
        "\n",
        "Here we converted from grayscale to rgb because AlexNet is designed with rgb input images (also the normalization helps because in the original AlexNet model images where normalized).\n",
        "\n",
        "Also the batches are changed because we want to use directly the whole sets."
      ]
    },
    {
      "cell_type": "code",
      "execution_count": 4,
      "metadata": {},
      "outputs": [
        {
          "name": "stdout",
          "output_type": "stream",
          "text": [
            "entire train folder: 1275, entire test folder: 2985, splitted trainset: 1275,  splitted validset: 225\n"
          ]
        }
      ],
      "source": [
        "image_open = lambda path: Image.open(path).convert(\"RGB\")\n",
        "\n",
        "trainset = torchvision.datasets.ImageFolder(root='CVPR2023_project_2_and_3_data/train/', loader=image_open)\n",
        "\n",
        "trainset_classes = trainset.classes.copy()\n",
        "\n",
        "subset_size = int(0.15*len(trainset))\n",
        "\n",
        "validset = torchvision.datasets.ImageFolder(root='CVPR2023_project_2_and_3_data/train/', loader=image_open)\n",
        "\n",
        "indices = torch.randperm(len(trainset))\n",
        "\n",
        "valid_indices = indices[:subset_size]\n",
        "train_indices = indices[subset_size:]\n",
        "\n",
        "trainset = Subset(trainset, train_indices)\n",
        "validset = Subset(validset, valid_indices)\n",
        "\n",
        "# Apply transformations only to the training set\n",
        "trainset.dataset.transform = train_transform\n",
        "# Apply transformations to the validation set\n",
        "validset.dataset.transform = test_transform\n",
        "\n",
        "trainloader = torch.utils.data.DataLoader(trainset, batch_size=1275, shuffle=True, pin_memory=True) # batch size of 1 because we have to crop in order to get all images to same size (64x64), also see pin_memory optin\n",
        "validloader = torch.utils.data.DataLoader(validset, batch_size=225, shuffle=False, pin_memory=True)\n",
        "\n",
        "testset = torchvision.datasets.ImageFolder(root='CVPR2023_project_2_and_3_data/test/', transform=test_transform, loader=image_open)\n",
        "testloader = torch.utils.data.DataLoader(testset, batch_size=2985, shuffle=False, pin_memory=True) # batch size of 1 because we have to crop in order to get all images to same size (64x64), also see pin_memory optin\n",
        "\n",
        "print(f'entire train folder: {len(trainset)}, entire test folder: {len(testset)}, splitted trainset: {len(trainset)},  splitted validset: {len(validset)}')"
      ]
    },
    {
      "cell_type": "code",
      "execution_count": 5,
      "metadata": {},
      "outputs": [
        {
          "name": "stderr",
          "output_type": "stream",
          "text": [
            "c:\\Users\\goate\\miniconda3\\lib\\site-packages\\torchvision\\transforms\\functional.py:1603: UserWarning: The default value of the antialias parameter of all the resizing transforms (Resize(), RandomResizedCrop(), etc.) will change from None to True in v0.17, in order to be consistent across the PIL and Tensor backends. To suppress this warning, directly pass antialias=True (recommended, future default), antialias=None (current default, which means False for Tensors and True for PIL), or antialias=False (only works on Tensors - PIL will still use antialiasing). This also applies if you are using the inference transforms from the models weights: update the call to weights.transforms(antialias=True).\n",
            "  warnings.warn(\n"
          ]
        },
        {
          "data": {
            "text/plain": [
              "(torch.Size([1275, 3, 224, 224]), 1275)"
            ]
          },
          "execution_count": 5,
          "metadata": {},
          "output_type": "execute_result"
        }
      ],
      "source": [
        "img, _ = next(iter(trainloader))\n",
        "\n",
        "img.size(), len(trainloader.dataset)"
      ]
    },
    {
      "cell_type": "code",
      "execution_count": 6,
      "metadata": {
        "id": "NwX54uMRj8Dq"
      },
      "outputs": [
        {
          "name": "stderr",
          "output_type": "stream",
          "text": [
            "Using cache found in C:\\Users\\goate/.cache\\torch\\hub\\pytorch_vision_v0.10.0\n",
            "c:\\Users\\goate\\miniconda3\\lib\\site-packages\\torchvision\\models\\_utils.py:208: UserWarning: The parameter 'pretrained' is deprecated since 0.13 and may be removed in the future, please use 'weights' instead.\n",
            "  warnings.warn(\n",
            "c:\\Users\\goate\\miniconda3\\lib\\site-packages\\torchvision\\models\\_utils.py:223: UserWarning: Arguments other than a weight enum or `None` for 'weights' are deprecated since 0.13 and may be removed in the future. The current behavior is equivalent to passing `weights=AlexNet_Weights.IMAGENET1K_V1`. You can also use `weights=AlexNet_Weights.DEFAULT` to get the most up-to-date weights.\n",
            "  warnings.warn(msg)\n"
          ]
        }
      ],
      "source": [
        "alex_net = torch.hub.load('pytorch/vision:v0.10.0', 'alexnet', pretrained=True)"
      ]
    },
    {
      "cell_type": "code",
      "execution_count": 7,
      "metadata": {},
      "outputs": [
        {
          "data": {
            "text/plain": [
              "AlexNet(\n",
              "  (features): Sequential(\n",
              "    (0): Conv2d(3, 64, kernel_size=(11, 11), stride=(4, 4), padding=(2, 2))\n",
              "    (1): ReLU(inplace=True)\n",
              "    (2): MaxPool2d(kernel_size=3, stride=2, padding=0, dilation=1, ceil_mode=False)\n",
              "    (3): Conv2d(64, 192, kernel_size=(5, 5), stride=(1, 1), padding=(2, 2))\n",
              "    (4): ReLU(inplace=True)\n",
              "    (5): MaxPool2d(kernel_size=3, stride=2, padding=0, dilation=1, ceil_mode=False)\n",
              "    (6): Conv2d(192, 384, kernel_size=(3, 3), stride=(1, 1), padding=(1, 1))\n",
              "    (7): ReLU(inplace=True)\n",
              "    (8): Conv2d(384, 256, kernel_size=(3, 3), stride=(1, 1), padding=(1, 1))\n",
              "    (9): ReLU(inplace=True)\n",
              "    (10): Conv2d(256, 256, kernel_size=(3, 3), stride=(1, 1), padding=(1, 1))\n",
              "    (11): ReLU(inplace=True)\n",
              "    (12): MaxPool2d(kernel_size=3, stride=2, padding=0, dilation=1, ceil_mode=False)\n",
              "  )\n",
              "  (avgpool): AdaptiveAvgPool2d(output_size=(6, 6))\n",
              "  (classifier): Sequential(\n",
              "    (0): Dropout(p=0.5, inplace=False)\n",
              "    (1): Linear(in_features=9216, out_features=4096, bias=True)\n",
              "    (2): ReLU(inplace=True)\n",
              "    (3): Dropout(p=0.5, inplace=False)\n",
              "    (4): Linear(in_features=4096, out_features=4096, bias=True)\n",
              "    (5): ReLU(inplace=True)\n",
              "    (6): Linear(in_features=4096, out_features=1000, bias=True)\n",
              "  )\n",
              ")"
            ]
          },
          "execution_count": 7,
          "metadata": {},
          "output_type": "execute_result"
        }
      ],
      "source": [
        "alex_net"
      ]
    },
    {
      "cell_type": "code",
      "execution_count": 8,
      "metadata": {},
      "outputs": [],
      "source": [
        "for param in alex_net.parameters():\n",
        "    param.requires_grad = False"
      ]
    },
    {
      "cell_type": "code",
      "execution_count": 9,
      "metadata": {},
      "outputs": [
        {
          "name": "stdout",
          "output_type": "stream",
          "text": [
            "param name: features.0.weight grad: False\n",
            "param name: features.0.bias grad: False\n",
            "param name: features.3.weight grad: False\n",
            "param name: features.3.bias grad: False\n",
            "param name: features.6.weight grad: False\n",
            "param name: features.6.bias grad: False\n",
            "param name: features.8.weight grad: False\n",
            "param name: features.8.bias grad: False\n",
            "param name: features.10.weight grad: False\n",
            "param name: features.10.bias grad: False\n",
            "param name: classifier.1.weight grad: False\n",
            "param name: classifier.1.bias grad: False\n",
            "param name: classifier.4.weight grad: False\n",
            "param name: classifier.4.bias grad: False\n",
            "param name: classifier.6.weight grad: False\n",
            "param name: classifier.6.bias grad: False\n"
          ]
        }
      ],
      "source": [
        "for name, param in alex_net.named_parameters():\n",
        "    print(f'param name: {name} grad: {param.requires_grad}')"
      ]
    },
    {
      "cell_type": "code",
      "execution_count": 10,
      "metadata": {
        "id": "kDVDSCDralxo"
      },
      "outputs": [],
      "source": [
        "def get_accuracy(model, dataloader):\n",
        "    model.eval()\n",
        "    with torch.no_grad():\n",
        "        correct=0\n",
        "        for x, y in iter(dataloader):\n",
        "            x = x.to(device)\n",
        "            y = y.to(device)\n",
        "            out=model(x)\n",
        "            correct+=(torch.argmax(out, axis=1)==y).sum()\n",
        "        return correct/len(dataloader.dataset)"
      ]
    },
    {
      "cell_type": "code",
      "execution_count": 11,
      "metadata": {
        "id": "oJeJIh9GWZo_"
      },
      "outputs": [],
      "source": [
        "optimizer = torch.optim.Adam(alex_net.parameters(), lr=0.001)\n",
        "loss = torch.nn.CrossEntropyLoss()"
      ]
    },
    {
      "cell_type": "code",
      "execution_count": 12,
      "metadata": {},
      "outputs": [],
      "source": [
        "def train_one_epoch(model, loader, optimizer):\n",
        "    model.train()\n",
        "    running_loss = 0\n",
        "    for x, y in iter(loader):\n",
        "        x = x.to(device)\n",
        "        y = y.to(device)\n",
        "        out=model(x)\n",
        "        l=loss(out, y)\n",
        "        running_loss += l.item()\n",
        "        optimizer.zero_grad()\n",
        "        l.backward()\n",
        "        optimizer.step()\n",
        "    return running_loss/len(loader.dataset)\n",
        "    "
      ]
    },
    {
      "cell_type": "code",
      "execution_count": 13,
      "metadata": {},
      "outputs": [],
      "source": [
        "def get_test_predictions(model, test_loader):\n",
        "    pred_tensor = torch.empty(len(testset), dtype = torch.uint8)\n",
        "    labels_tensor = torch.empty_like(pred_tensor)\n",
        "\n",
        "    for i, data in enumerate(test_loader):\n",
        "        x, y = data\n",
        "        x = x.to(device)\n",
        "        y = y.to(device)\n",
        "        prediction = model(x)\n",
        "\n",
        "        prediction = torch.argmax(prediction, axis=1)\n",
        "    \n",
        "        pred_tensor = copy.deepcopy(prediction) # we have that strange equation because the dataset is not divisible by 32\n",
        "        labels_tensor = copy.deepcopy(y)\n",
        "    \n",
        "    return (pred_tensor, labels_tensor)"
      ]
    },
    {
      "cell_type": "code",
      "execution_count": 14,
      "metadata": {},
      "outputs": [
        {
          "data": {
            "text/plain": [
              "Sequential(\n",
              "  (0): Sequential(\n",
              "    (0): Conv2d(3, 64, kernel_size=(11, 11), stride=(4, 4), padding=(2, 2))\n",
              "    (1): ReLU(inplace=True)\n",
              "    (2): MaxPool2d(kernel_size=3, stride=2, padding=0, dilation=1, ceil_mode=False)\n",
              "    (3): Conv2d(64, 192, kernel_size=(5, 5), stride=(1, 1), padding=(2, 2))\n",
              "    (4): ReLU(inplace=True)\n",
              "    (5): MaxPool2d(kernel_size=3, stride=2, padding=0, dilation=1, ceil_mode=False)\n",
              "    (6): Conv2d(192, 384, kernel_size=(3, 3), stride=(1, 1), padding=(1, 1))\n",
              "    (7): ReLU(inplace=True)\n",
              "    (8): Conv2d(384, 256, kernel_size=(3, 3), stride=(1, 1), padding=(1, 1))\n",
              "    (9): ReLU(inplace=True)\n",
              "    (10): Conv2d(256, 256, kernel_size=(3, 3), stride=(1, 1), padding=(1, 1))\n",
              "    (11): ReLU(inplace=True)\n",
              "    (12): MaxPool2d(kernel_size=3, stride=2, padding=0, dilation=1, ceil_mode=False)\n",
              "  )\n",
              "  (1): AdaptiveAvgPool2d(output_size=(6, 6))\n",
              ")"
            ]
          },
          "execution_count": 14,
          "metadata": {},
          "output_type": "execute_result"
        }
      ],
      "source": [
        "model = torch.nn.Sequential(alex_net.features, alex_net.avgpool)\n",
        "model"
      ]
    },
    {
      "cell_type": "code",
      "execution_count": 15,
      "metadata": {},
      "outputs": [
        {
          "data": {
            "text/plain": [
              "(torch.Size([1275, 3, 224, 224]),\n",
              " torch.Size([225, 3, 224, 224]),\n",
              " tensor(1.0297))"
            ]
          },
          "execution_count": 15,
          "metadata": {},
          "output_type": "execute_result"
        }
      ],
      "source": [
        "x, y = next(iter(trainloader))\n",
        "\n",
        "valid_x, valid_y = next(iter(validloader))\n",
        "\n",
        "x.size(), valid_x.size(), x.std()**2"
      ]
    },
    {
      "cell_type": "code",
      "execution_count": 16,
      "metadata": {},
      "outputs": [
        {
          "data": {
            "text/plain": [
              "(torch.Size([1275, 9216]), torch.Size([225, 9216]))"
            ]
          },
          "execution_count": 16,
          "metadata": {},
          "output_type": "execute_result"
        }
      ],
      "source": [
        "pred = model(x).reshape(len(trainloader.dataset), -1)\n",
        "\n",
        "valid_pred = model(valid_x).reshape(len(validloader.dataset), -1)\n",
        "\n",
        "pred.size(), valid_pred.size()"
      ]
    },
    {
      "cell_type": "code",
      "execution_count": 17,
      "metadata": {},
      "outputs": [],
      "source": [
        "x = pred.numpy()\n",
        "y = y.numpy()\n",
        "\n",
        "valid_x = valid_pred.numpy()\n",
        "valid_y = valid_y.numpy()"
      ]
    },
    {
      "cell_type": "markdown",
      "metadata": {},
      "source": [
        "## Classifier definition"
      ]
    },
    {
      "cell_type": "code",
      "execution_count": 18,
      "metadata": {},
      "outputs": [],
      "source": [
        "# clf = OneVsRestClassifier(SVC(kernel='linear')).fit(x, y)\n",
        "\n",
        "clf = OneVsRestClassifier(SVC(kernel='rbf', gamma=1e-4, C=100)).fit(x, y)"
      ]
    },
    {
      "cell_type": "code",
      "execution_count": 19,
      "metadata": {},
      "outputs": [
        {
          "name": "stdout",
          "output_type": "stream",
          "text": [
            "Accuracy: 0.8444444444444444\n"
          ]
        }
      ],
      "source": [
        "y_pred = clf.predict(valid_x)\n",
        "\n",
        "print(\"Accuracy:\",metrics.accuracy_score(valid_y, y_pred))"
      ]
    },
    {
      "cell_type": "code",
      "execution_count": 20,
      "metadata": {},
      "outputs": [
        {
          "data": {
            "text/plain": [
              "(455.53333333333336, 0.357281045751634)"
            ]
          },
          "execution_count": 20,
          "metadata": {},
          "output_type": "execute_result"
        }
      ],
      "source": [
        "alphas_per_classifier = np.empty(15)\n",
        "\n",
        "for i, svc in enumerate(clf.estimators_):\n",
        "    alphas_per_classifier[i] = svc.support_vectors_.shape[0]\n",
        "\n",
        "alphas_per_classifier.mean(), alphas_per_classifier.mean()/len(trainloader.dataset)"
      ]
    },
    {
      "cell_type": "code",
      "execution_count": 21,
      "metadata": {},
      "outputs": [
        {
          "name": "stderr",
          "output_type": "stream",
          "text": [
            "c:\\Users\\goate\\miniconda3\\lib\\site-packages\\torchvision\\transforms\\functional.py:1603: UserWarning: The default value of the antialias parameter of all the resizing transforms (Resize(), RandomResizedCrop(), etc.) will change from None to True in v0.17, in order to be consistent across the PIL and Tensor backends. To suppress this warning, directly pass antialias=True (recommended, future default), antialias=None (current default, which means False for Tensors and True for PIL), or antialias=False (only works on Tensors - PIL will still use antialiasing). This also applies if you are using the inference transforms from the models weights: update the call to weights.transforms(antialias=True).\n",
            "  warnings.warn(\n"
          ]
        },
        {
          "data": {
            "image/png": "[encoded data removed]",
            "text/plain": [
              "<Figure size 640x480 with 2 Axes>"
            ]
          },
          "metadata": {},
          "output_type": "display_data"
        }
      ],
      "source": [
        "test_x, test_y = next(iter(testloader))\n",
        "\n",
        "test_pred = model(test_x).reshape(len(testloader.dataset), -1)\n",
        "\n",
        "test_x = test_pred.numpy()\n",
        "test_y = test_y.numpy()\n",
        "\n",
        "y_pred = clf.predict(test_x)\n",
        "\n",
        "\n",
        "cm = confusion_matrix(test_y, y_pred, labels=[*range(0, len(trainset_classes))])\n",
        "\n",
        "disp = ConfusionMatrixDisplay(confusion_matrix=cm, display_labels=[*range(0, len(trainset_classes))])\n",
        "\n",
        "disp.plot()\n",
        "\n",
        "plt.show()"
      ]
    },
    {
      "cell_type": "code",
      "execution_count": 22,
      "metadata": {},
      "outputs": [
        {
          "data": {
            "text/plain": [
              "'\\nfor C in [0.01, 0.1, 1, 10, 100]:\\n    for gamma in [1e-5, 1e-4, 1e-3, 1e-2, 1e-1, 1, 10, 100]:\\n        x, y = next(iter(trainloader))\\n\\n        valid_x, valid_y = next(iter(validloader))\\n\\n        pred = model(x).reshape(len(trainloader.dataset), -1)\\n\\n        valid_pred = model(valid_x).reshape(len(validloader.dataset), -1)\\n\\n        x = pred.numpy()\\n        y = y.numpy()\\n\\n        valid_x = valid_pred.numpy()\\n        valid_y = valid_y.numpy()\\n\\n        clf = OneVsRestClassifier(SVC(kernel=\\'rbf\\', C=C, gamma=gamma)).fit(x, y)\\n\\n        y_pred = clf.predict(valid_x)\\n\\n        print(f\"C: {C} gamma {gamma}, Accuracy:{metrics.accuracy_score(valid_y, y_pred)}\")\\n'"
            ]
          },
          "execution_count": 22,
          "metadata": {},
          "output_type": "execute_result"
        }
      ],
      "source": [
        "# GRID SEARCH LOOP\n",
        "\n",
        "'''\n",
        "for C in [0.01, 0.1, 1, 10, 100]:\n",
        "    for gamma in [1e-5, 1e-4, 1e-3, 1e-2, 1e-1, 1, 10, 100]:\n",
        "        x, y = next(iter(trainloader))\n",
        "\n",
        "        valid_x, valid_y = next(iter(validloader))\n",
        "\n",
        "        pred = model(x).reshape(len(trainloader.dataset), -1)\n",
        "\n",
        "        valid_pred = model(valid_x).reshape(len(validloader.dataset), -1)\n",
        "\n",
        "        x = pred.numpy()\n",
        "        y = y.numpy()\n",
        "\n",
        "        valid_x = valid_pred.numpy()\n",
        "        valid_y = valid_y.numpy()\n",
        "\n",
        "        clf = OneVsRestClassifier(SVC(kernel='rbf', C=C, gamma=gamma)).fit(x, y)\n",
        "\n",
        "        y_pred = clf.predict(valid_x)\n",
        "\n",
        "        print(f\"C: {C} gamma {gamma}, Accuracy:{metrics.accuracy_score(valid_y, y_pred)}\")\n",
        "'''"
      ]
    }
  ],
  "metadata": {
    "accelerator": "GPU",
    "colab": {
      "gpuType": "T4",
      "provenance": []
    },
    "kernelspec": {
      "display_name": "Python 3",
      "name": "python3"
    },
    "language_info": {
      "codemirror_mode": {
        "name": "ipython",
        "version": 3
      },
      "file_extension": ".py",
      "mimetype": "text/x-python",
      "name": "python",
      "nbconvert_exporter": "python",
      "pygments_lexer": "ipython3",
      "version": "3.10.9"
    }
  },
  "nbformat": 4,
  "nbformat_minor": 0
}
